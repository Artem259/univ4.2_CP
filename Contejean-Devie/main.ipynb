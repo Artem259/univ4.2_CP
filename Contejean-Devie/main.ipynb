{
 "cells": [
  {
   "cell_type": "code",
   "execution_count": 1,
   "id": "bbf51bbe-b8d4-47fc-a74c-0165b8cb3d57",
   "metadata": {
    "ExecuteTime": {
     "end_time": "2024-03-04T19:09:57.464977200Z",
     "start_time": "2024-03-04T19:09:57.427364100Z"
    }
   },
   "outputs": [],
   "source": [
    "import numpy as np\n",
    "from prettytable import PrettyTable\n",
    "import copy"
   ]
  },
  {
   "cell_type": "code",
   "execution_count": 2,
   "id": "f2e2deb9f0e972a7",
   "metadata": {
    "ExecuteTime": {
     "end_time": "2024-03-04T19:09:57.465978400Z",
     "start_time": "2024-03-04T19:09:57.448686500Z"
    },
    "collapsed": false,
    "jupyter": {
     "outputs_hidden": false
    }
   },
   "outputs": [],
   "source": [
    "class Cell:\n",
    "    def __init__(self, values: np.array, vector: np.array):\n",
    "        self.__values = values\n",
    "        self.__vector = vector\n",
    "\n",
    "    def __eq__(self, other):\n",
    "        if isinstance(other, Cell):\n",
    "            return np.all(self.values == other.values) and np.all(self.vector == other.vector)\n",
    "        return False\n",
    "\n",
    "    def __ge__(self, other):\n",
    "        if isinstance(other, list):\n",
    "            return [self.__ge__(i) for i in other]\n",
    "        return np.all(self.vector.__ge__(other.vector))\n",
    "\n",
    "    def __add__(self, other):\n",
    "        return Cell(self.values + other.values, self.vector + other.vector)\n",
    "\n",
    "    def __str__(self):\n",
    "        return str(self.values) + \" \" + str(self.vector)\n",
    "\n",
    "    def __repr__(self):\n",
    "        return str(self)\n",
    "\n",
    "    @property\n",
    "    def values(self):\n",
    "        return self.__values\n",
    "\n",
    "    @values.setter\n",
    "    def values(self, values: np.array):\n",
    "        self.__values = values\n",
    "\n",
    "    @property\n",
    "    def vector(self):\n",
    "        return self.__vector\n",
    "\n",
    "    @vector.setter\n",
    "    def vector(self, vector: list[int]):\n",
    "        self.__vector = vector\n",
    "\n",
    "    @staticmethod\n",
    "    def init_cells(coefficients: list[list[int]]) -> list[\"Cell\"]:\n",
    "        cells = []\n",
    "        n = len(coefficients[0])\n",
    "        for i, vs in enumerate(zip(*coefficients)):\n",
    "            vector = np.eye(1, n, i, dtype=np.int32)[0]\n",
    "            cell = Cell(np.array(vs), vector)\n",
    "            cells.append(cell)\n",
    "        return cells"
   ]
  },
  {
   "cell_type": "code",
   "execution_count": 3,
   "id": "13e5eefda1621b1",
   "metadata": {
    "ExecuteTime": {
     "end_time": "2024-03-04T19:09:57.488693500Z",
     "start_time": "2024-03-04T19:09:57.469383Z"
    },
    "collapsed": false,
    "jupyter": {
     "outputs_hidden": false
    }
   },
   "outputs": [],
   "source": [
    "class ResultCell:\n",
    "    def __init__(self, cell: Cell, arrows: list[int], m: int):\n",
    "        self.__cell = cell\n",
    "        self.__arrows = arrows\n",
    "        self.__m = m\n",
    "\n",
    "    def __str__(self):\n",
    "        m_str = \"\"\n",
    "        if self.m < 0:\n",
    "            m_str = \"--> s\" + str(-self.m)\n",
    "        elif self.m > 0:\n",
    "            m_str = \">= s\" + str(self.m)\n",
    "        return str(np.array(self.arrows)) + \"\\n\" + str(self.cell) + \"\\n\" + m_str\n",
    "\n",
    "    def __repr__(self):\n",
    "        return str(self)\n",
    "\n",
    "    @property\n",
    "    def cell(self):\n",
    "        return self.__cell\n",
    "\n",
    "    @cell.setter\n",
    "    def cell(self, cell: Cell):\n",
    "        self.__cell = cell\n",
    "\n",
    "    @property\n",
    "    def arrows(self):\n",
    "        return self.__arrows\n",
    "\n",
    "    @arrows.setter\n",
    "    def arrows(self, arrows: list[int]):\n",
    "        self.__arrows = arrows\n",
    "\n",
    "    @property\n",
    "    def m(self):\n",
    "        return self.__m\n",
    "\n",
    "    @m.setter\n",
    "    def m(self, m: list[int]):\n",
    "        self.__m = m"
   ]
  },
  {
   "cell_type": "code",
   "execution_count": 4,
   "id": "bd8d131dcbb7d7b3",
   "metadata": {
    "ExecuteTime": {
     "end_time": "2024-03-04T19:09:57.504410500Z",
     "start_time": "2024-03-04T19:09:57.487693400Z"
    },
    "collapsed": false,
    "jupyter": {
     "outputs_hidden": false
    }
   },
   "outputs": [],
   "source": [
    "def calc_process_m(cell: Cell, solutions: list[Cell]) -> int:\n",
    "    if np.all(cell.values == 0):\n",
    "        if cell not in solutions:\n",
    "            solutions.append(cell)\n",
    "        return -len(solutions)\n",
    "    l = np.where(cell >= solutions)[0]\n",
    "    m = l[0] + 1 if l.size > 0 else None\n",
    "    if m is not None:\n",
    "        return m\n",
    "    return 0\n",
    "    \n",
    "\n",
    "def solve(coefficients: list[list[int]]) -> tuple[list[list[ResultCell]], list[Cell]]:\n",
    "    solutions = []\n",
    "    first = Cell.init_cells(coefficients)\n",
    "    result = [[]]\n",
    "    for cell in first:\n",
    "        m = calc_process_m(cell, solutions)\n",
    "        result[0].append(ResultCell(cell, [], m))\n",
    "    flag = True\n",
    "    while flag:\n",
    "        curr_result = []\n",
    "        flag = False\n",
    "        for step_i, result_cell in enumerate(result[-1]):\n",
    "            if result_cell.m != 0:\n",
    "                continue\n",
    "            flag = True\n",
    "            for first_i, f_cell in enumerate(first):\n",
    "                if np.dot(result_cell.cell.values, f_cell.values.T) >= 0:\n",
    "                    continue\n",
    "                tmp = result_cell.cell + f_cell\n",
    "                m = calc_process_m(tmp, solutions)\n",
    "                for i, v in enumerate(curr_result):\n",
    "                    if tmp == v.cell:\n",
    "                        curr_result[i].arrows += [step_i + 1]\n",
    "                        break\n",
    "                else:\n",
    "                    curr_result.append(ResultCell(tmp, [step_i + 1], m))\n",
    "        result.append(curr_result)\n",
    "    return result[:-1], solutions"
   ]
  },
  {
   "cell_type": "code",
   "execution_count": 5,
   "id": "a1e3c37219930912",
   "metadata": {
    "ExecuteTime": {
     "end_time": "2024-03-04T19:09:57.546278300Z",
     "start_time": "2024-03-04T19:09:57.501414100Z"
    },
    "collapsed": false,
    "jupyter": {
     "outputs_hidden": false
    }
   },
   "outputs": [],
   "source": [
    "def print_result(result: list[list[ResultCell]]):\n",
    "    result_ = copy.deepcopy(result)\n",
    "    n = max(map(len, result_))\n",
    "    for r in result_:\n",
    "        while len(r) < n:\n",
    "            r.append(\"\")\n",
    "\n",
    "    table = PrettyTable()\n",
    "    table.field_names = range(1, n + 1)\n",
    "    for r in result_:\n",
    "        table.add_row(r, divider=True)\n",
    "\n",
    "    print(table)\n",
    "    \n",
    "\n",
    "def print_solutions(solutions: list[Cell]):\n",
    "    print(\"Solution vectors:\")\n",
    "    for b_i, b_v in enumerate(solutions):\n",
    "        print(f\"s{b_i + 1} = {b_v.vector}\")"
   ]
  },
  {
   "cell_type": "code",
   "execution_count": 6,
   "id": "ebbeca30a9571a69",
   "metadata": {
    "ExecuteTime": {
     "end_time": "2024-03-04T19:09:57.547281700Z",
     "start_time": "2024-03-04T19:09:57.516147700Z"
    },
    "collapsed": false,
    "jupyter": {
     "outputs_hidden": false
    }
   },
   "outputs": [],
   "source": [
    "def input_():\n",
    "    n = int(input(\"n >>\"))\n",
    "    coefficients = []\n",
    "    for i in range(n):\n",
    "        coefficients.append(list(map(int, input(f\"e{i + 1} >>\").split())))\n",
    "    return coefficients"
   ]
  },
  {
   "cell_type": "markdown",
   "id": "ecf2cee8b2dc2a30",
   "metadata": {
    "collapsed": false,
    "jupyter": {
     "outputs_hidden": false
    }
   },
   "source": [
    "**Enter the number of equations and their coefficients:**\n",
    "\n",
    "*Input example:*\\\n",
    "```n >> 2```\\\n",
    "```e1 >> -1 1 2 -3```\\\n",
    "```e2 >> -1 3 -2 -1```"
   ]
  },
  {
   "cell_type": "code",
   "execution_count": 7,
   "id": "31da9023-782b-46e2-b9a0-f515c37ce216",
   "metadata": {
    "ExecuteTime": {
     "end_time": "2024-03-04T19:09:57.548281900Z",
     "start_time": "2024-03-04T19:09:57.530323400Z"
    }
   },
   "outputs": [
    {
     "name": "stdin",
     "output_type": "stream",
     "text": [
      "n >> 2\n",
      "e1 >> -1 1 2 -3\n",
      "e2 >> -1 3 -2 -1\n"
     ]
    }
   ],
   "source": [
    "es = input_()"
   ]
  },
  {
   "cell_type": "code",
   "execution_count": 8,
   "id": "52008c5e01cb45de",
   "metadata": {
    "ExecuteTime": {
     "end_time": "2024-03-04T19:09:57.584461100Z",
     "start_time": "2024-03-04T19:09:57.547281700Z"
    },
    "collapsed": false,
    "jupyter": {
     "outputs_hidden": false
    }
   },
   "outputs": [
    {
     "name": "stdout",
     "output_type": "stream",
     "text": [
      "+-------------------+-------------------+-------------------+-------------------+\n",
      "|         1         |         2         |         3         |         4         |\n",
      "+-------------------+-------------------+-------------------+-------------------+\n",
      "|         []        |         []        |         []        |         []        |\n",
      "| [-1 -1] [1 0 0 0] |  [1 3] [0 1 0 0]  | [ 2 -2] [0 0 1 0] | [-3 -1] [0 0 0 1] |\n",
      "|                   |                   |                   |                   |\n",
      "+-------------------+-------------------+-------------------+-------------------+\n",
      "|       [1 2]       |       [2 3]       |       [2 4]       |       [3 4]       |\n",
      "|  [0 2] [1 1 0 0]  |  [3 1] [0 1 1 0]  | [-2  2] [0 1 0 1] | [-1 -3] [0 0 1 1] |\n",
      "|                   |                   |                   |                   |\n",
      "+-------------------+-------------------+-------------------+-------------------+\n",
      "|        [1]        |       [1 2]       |        [1]        |      [2 3 4]      |\n",
      "| [-1  1] [2 1 0 0] |  [2 0] [1 1 1 0]  | [-3  1] [1 1 0 1] |  [0 0] [0 1 1 1]  |\n",
      "|                   |                   |                   |       --> s1      |\n",
      "+-------------------+-------------------+-------------------+-------------------+\n",
      "|       [1 2]       |       [2 3]       |                   |                   |\n",
      "| [ 1 -1] [2 1 1 0] | [-1 -1] [1 1 1 1] |                   |                   |\n",
      "|                   |       >= s1       |                   |                   |\n",
      "+-------------------+-------------------+-------------------+-------------------+\n",
      "|        [1]        |        [1]        |                   |                   |\n",
      "|  [2 2] [2 2 1 0]  | [-2 -2] [2 1 1 1] |                   |                   |\n",
      "|                   |       >= s1       |                   |                   |\n",
      "+-------------------+-------------------+-------------------+-------------------+\n",
      "|        [1]        |        [1]        |                   |                   |\n",
      "|  [1 1] [3 2 1 0]  | [-1  1] [2 2 1 1] |                   |                   |\n",
      "|                   |       >= s1       |                   |                   |\n",
      "+-------------------+-------------------+-------------------+-------------------+\n",
      "|        [1]        |        [1]        |                   |                   |\n",
      "|  [0 0] [4 2 1 0]  | [-2  0] [3 2 1 1] |                   |                   |\n",
      "|       --> s2      |       >= s1       |                   |                   |\n",
      "+-------------------+-------------------+-------------------+-------------------+\n"
     ]
    }
   ],
   "source": [
    "out_ = solve(es)\n",
    "print_result(out_[0])"
   ]
  },
  {
   "cell_type": "code",
   "execution_count": 9,
   "id": "b69219af5c981282",
   "metadata": {
    "ExecuteTime": {
     "end_time": "2024-03-04T19:09:57.585714400Z",
     "start_time": "2024-03-04T19:09:57.562954300Z"
    },
    "collapsed": false,
    "jupyter": {
     "outputs_hidden": false
    }
   },
   "outputs": [
    {
     "name": "stdout",
     "output_type": "stream",
     "text": [
      "Solution vectors:\n",
      "s1 = [0 1 1 1]\n",
      "s2 = [4 2 1 0]\n"
     ]
    }
   ],
   "source": [
    "print_solutions(out_[1])"
   ]
  },
  {
   "attachments": {},
   "cell_type": "markdown",
   "id": "d80091ae-a145-4670-ac52-8eeb1c96f15e",
   "metadata": {},
   "source": [
    "**Handwritten version of the example:**\n",
    "\n",
    "![](https://i.imgur.com/QzLmL83.png)"
   ]
  }
 ],
 "metadata": {
  "kernelspec": {
   "display_name": "Python 3 (ipykernel)",
   "language": "python",
   "name": "python3"
  },
  "language_info": {
   "codemirror_mode": {
    "name": "ipython",
    "version": 3
   },
   "file_extension": ".py",
   "mimetype": "text/x-python",
   "name": "python",
   "nbconvert_exporter": "python",
   "pygments_lexer": "ipython3",
   "version": "3.9.13"
  }
 },
 "nbformat": 4,
 "nbformat_minor": 5
}
