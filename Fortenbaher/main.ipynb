{
 "cells": [
  {
   "cell_type": "code",
   "execution_count": 1,
   "id": "bbf51bbe-b8d4-47fc-a74c-0165b8cb3d57",
   "metadata": {
    "ExecuteTime": {
     "end_time": "2024-03-03T16:54:27.905280400Z",
     "start_time": "2024-03-03T16:54:27.889632Z"
    }
   },
   "outputs": [],
   "source": [
    "import numpy as np\n",
    "from prettytable import PrettyTable\n",
    "import copy"
   ]
  },
  {
   "cell_type": "code",
   "execution_count": 2,
   "id": "f2e2deb9f0e972a7",
   "metadata": {
    "ExecuteTime": {
     "end_time": "2024-03-03T16:54:27.921204100Z",
     "start_time": "2024-03-03T16:54:27.911147200Z"
    },
    "collapsed": false,
    "jupyter": {
     "outputs_hidden": false
    }
   },
   "outputs": [],
   "source": [
    "class Cell:\n",
    "    def __init__(self, value: int, vector: np.array):\n",
    "        self.__value = value\n",
    "        self.__vector = vector\n",
    "\n",
    "    def __eq__(self, other):\n",
    "        if isinstance(other, Cell):\n",
    "            return self.value == other.value and np.all(self.vector == other.vector)\n",
    "        return False\n",
    "\n",
    "    def __ge__(self, other):\n",
    "        if isinstance(other, list):\n",
    "            return [self.__ge__(i) for i in other]\n",
    "        return np.all(self.vector.__ge__(other.vector))\n",
    "\n",
    "    def __add__(self, other):\n",
    "        return Cell(self.value + other.value, self.vector + other.vector)\n",
    "\n",
    "    def __str__(self):\n",
    "        return str(self.value) + \" \" + str(self.vector)\n",
    "\n",
    "    def __repr__(self):\n",
    "        return str(self)\n",
    "\n",
    "    @property\n",
    "    def value(self):\n",
    "        return self.__value\n",
    "\n",
    "    @value.setter\n",
    "    def value(self, value: int):\n",
    "        self.__value = value\n",
    "\n",
    "    @property\n",
    "    def vector(self):\n",
    "        return self.__vector\n",
    "\n",
    "    @vector.setter\n",
    "    def vector(self, vector: list[int]):\n",
    "        self.__vector = vector\n",
    "\n",
    "    @staticmethod\n",
    "    def init_cells(coefficients: list[int]) -> list[\"Cell\"]:\n",
    "        cells = []\n",
    "        n = len(coefficients)\n",
    "        for i, v in enumerate(coefficients):\n",
    "            vector = np.eye(1, n, i, dtype=np.int32)[0]\n",
    "            cell = Cell(v, vector)\n",
    "            cells.append(cell)\n",
    "        return cells"
   ]
  },
  {
   "cell_type": "code",
   "execution_count": 3,
   "id": "13e5eefda1621b1",
   "metadata": {
    "ExecuteTime": {
     "end_time": "2024-03-03T16:54:27.956707500Z",
     "start_time": "2024-03-03T16:54:27.923989400Z"
    },
    "collapsed": false,
    "jupyter": {
     "outputs_hidden": false
    }
   },
   "outputs": [],
   "source": [
    "class ResultCell:\n",
    "    def __init__(self, cell: Cell, arrows: list[int], m: int):\n",
    "        self.__cell = cell\n",
    "        self.__arrows = arrows\n",
    "        self.__m = m\n",
    "\n",
    "    def __str__(self):\n",
    "        m_str = \"\"\n",
    "        if self.m < 0:\n",
    "            m_str = \"--> m\" + str(-self.m)\n",
    "        elif self.m > 0:\n",
    "            m_str = \">= m\" + str(self.m)\n",
    "        return str(np.array(self.arrows)) + \"\\n\" + str(self.cell) + \"\\n\" + m_str\n",
    "\n",
    "    def __repr__(self):\n",
    "        return str(self)\n",
    "\n",
    "    @property\n",
    "    def cell(self):\n",
    "        return self.__cell\n",
    "\n",
    "    @cell.setter\n",
    "    def cell(self, cell: Cell):\n",
    "        self.__cell = cell\n",
    "\n",
    "    @property\n",
    "    def arrows(self):\n",
    "        return self.__arrows\n",
    "\n",
    "    @arrows.setter\n",
    "    def arrows(self, arrows: list[int]):\n",
    "        self.__arrows = arrows\n",
    "\n",
    "    @property\n",
    "    def m(self):\n",
    "        return self.__m\n",
    "\n",
    "    @m.setter\n",
    "    def m(self, m: list[int]):\n",
    "        self.__m = m"
   ]
  },
  {
   "cell_type": "code",
   "execution_count": 4,
   "id": "bd8d131dcbb7d7b3",
   "metadata": {
    "ExecuteTime": {
     "end_time": "2024-03-03T16:54:27.957712800Z",
     "start_time": "2024-03-03T16:54:27.936045100Z"
    },
    "collapsed": false,
    "jupyter": {
     "outputs_hidden": false
    }
   },
   "outputs": [],
   "source": [
    "def calc_process_m(cell: Cell, result_basis: list[Cell]) -> int:\n",
    "    if cell.value == 0:\n",
    "        if cell not in result_basis:\n",
    "            result_basis.append(cell)\n",
    "        return -len(result_basis)\n",
    "    l = np.where(cell >= result_basis)[0]\n",
    "    m = l[0] + 1 if l.size > 0 else None\n",
    "    if m is not None:\n",
    "        return m\n",
    "    return 0\n",
    "    \n",
    "\n",
    "def solve(coefficients: list[int]) -> tuple[list[list[ResultCell]], list[Cell]]:\n",
    "    result_basis = []\n",
    "    first = Cell.init_cells(coefficients)\n",
    "    result = [[]]\n",
    "    for cell in first:\n",
    "        m = calc_process_m(cell, result_basis)\n",
    "        result[0].append(ResultCell(cell, [], m))\n",
    "    flag = True\n",
    "    while flag:\n",
    "        curr_result = []\n",
    "        flag = False\n",
    "        for step_i, result_cell in enumerate(result[-1]):\n",
    "            if result_cell.m != 0:\n",
    "                continue\n",
    "            flag = True\n",
    "            for first_i, f_cell in enumerate(first):\n",
    "                if result_cell.cell.value * f_cell.value >= 0:\n",
    "                    continue\n",
    "                tmp = result_cell.cell + f_cell\n",
    "                m = calc_process_m(tmp, result_basis)\n",
    "                for i, v in enumerate(curr_result):\n",
    "                    if tmp == v.cell:\n",
    "                        curr_result[i].arrows += [step_i + 1]\n",
    "                        break\n",
    "                else:\n",
    "                    curr_result.append(ResultCell(tmp, [step_i + 1], m))\n",
    "        result.append(curr_result)\n",
    "    return result[:-1], result_basis"
   ]
  },
  {
   "cell_type": "code",
   "execution_count": 5,
   "id": "a1e3c37219930912",
   "metadata": {
    "ExecuteTime": {
     "end_time": "2024-03-03T16:54:27.979739400Z",
     "start_time": "2024-03-03T16:54:27.952985400Z"
    },
    "collapsed": false,
    "jupyter": {
     "outputs_hidden": false
    }
   },
   "outputs": [],
   "source": [
    "def print_result(result: list[list[ResultCell]]):\n",
    "    result_ = copy.deepcopy(result)\n",
    "    n = max(map(len, result_))\n",
    "    for r in result_:\n",
    "        while len(r) < n:\n",
    "            r.append(\"\")\n",
    "\n",
    "    table = PrettyTable()\n",
    "    table.field_names = range(1, n + 1)\n",
    "    for r in result_:\n",
    "        table.add_row(r, divider=True)\n",
    "\n",
    "    print(table)\n",
    "    \n",
    "\n",
    "def print_basis(basis: list[Cell]):\n",
    "    print(\"Basis vectors:\")\n",
    "    for b_i, b_v in enumerate(basis):\n",
    "        print(f\"m{b_i + 1} = {b_v.vector}\")"
   ]
  },
  {
   "cell_type": "markdown",
   "id": "ecf2cee8b2dc2a30",
   "metadata": {
    "collapsed": false,
    "jupyter": {
     "outputs_hidden": false
    }
   },
   "source": [
    "**Enter equation coefficients:**\n",
    "\n",
    "*Input example:*\\\n",
    "```>> -1 1 2 -3```"
   ]
  },
  {
   "cell_type": "code",
   "execution_count": 6,
   "id": "31da9023-782b-46e2-b9a0-f515c37ce216",
   "metadata": {
    "ExecuteTime": {
     "end_time": "2024-03-03T16:54:27.902825700Z",
     "start_time": "2024-03-03T16:54:21.327008100Z"
    }
   },
   "outputs": [
    {
     "name": "stdin",
     "output_type": "stream",
     "text": [
      ">> -1 1 2 -3\n"
     ]
    }
   ],
   "source": [
    "s = input(\">>\")"
   ]
  },
  {
   "cell_type": "code",
   "execution_count": 7,
   "id": "52008c5e01cb45de",
   "metadata": {
    "ExecuteTime": {
     "end_time": "2024-03-03T16:54:27.995736200Z",
     "start_time": "2024-03-03T16:54:27.966761900Z"
    },
    "collapsed": false,
    "jupyter": {
     "outputs_hidden": false
    }
   },
   "outputs": [
    {
     "name": "stdout",
     "output_type": "stream",
     "text": [
      "+--------------+--------------+--------------+--------------+--------------+\n",
      "|      1       |      2       |      3       |      4       |      5       |\n",
      "+--------------+--------------+--------------+--------------+--------------+\n",
      "|      []      |      []      |      []      |      []      |              |\n",
      "| -1 [1 0 0 0] | 1 [0 1 0 0]  | 2 [0 0 1 0]  | -3 [0 0 0 1] |              |\n",
      "|              |              |              |              |              |\n",
      "+--------------+--------------+--------------+--------------+--------------+\n",
      "|    [1 2]     |    [1 3]     |    [2 4]     |    [3 4]     |              |\n",
      "| 0 [1 1 0 0]  | 1 [1 0 1 0]  | -2 [0 1 0 1] | -1 [0 0 1 1] |              |\n",
      "|    --> m1    |              |              |              |              |\n",
      "+--------------+--------------+--------------+--------------+--------------+\n",
      "|     [2]      |     [2]      |     [3]      |    [3 4]     |     [4]      |\n",
      "| 0 [2 0 1 0]  | -2 [1 0 1 1] | -1 [0 2 0 1] | 0 [0 1 1 1]  | 1 [0 0 2 1]  |\n",
      "|    --> m2    |              |              |    --> m3    |              |\n",
      "+--------------+--------------+--------------+--------------+--------------+\n",
      "|     [2]      |    [2 5]     |     [3]      |     [3]      |     [5]      |\n",
      "| -1 [1 1 1 1] | 0 [1 0 2 1]  | 0 [0 3 0 1]  | 1 [0 2 1 1]  | -2 [0 0 2 2] |\n",
      "|    >= m1     |    --> m4    |    --> m5    |    >= m3     |              |\n",
      "+--------------+--------------+--------------+--------------+--------------+\n",
      "|     [5]      |     [5]      |              |              |              |\n",
      "| -1 [0 1 2 2] | 0 [0 0 3 2]  |              |              |              |\n",
      "|    >= m3     |    --> m6    |              |              |              |\n",
      "+--------------+--------------+--------------+--------------+--------------+\n"
     ]
    }
   ],
   "source": [
    "input_nums = list(map(int, s.split()))\n",
    "out_ = solve(input_nums)\n",
    "print_result(out_[0])"
   ]
  },
  {
   "cell_type": "code",
   "execution_count": 8,
   "id": "b69219af5c981282",
   "metadata": {
    "ExecuteTime": {
     "end_time": "2024-03-03T16:54:28.011368900Z",
     "start_time": "2024-03-03T16:54:27.981903300Z"
    },
    "collapsed": false,
    "jupyter": {
     "outputs_hidden": false
    }
   },
   "outputs": [
    {
     "name": "stdout",
     "output_type": "stream",
     "text": [
      "Basis vectors:\n",
      "m1 = [1 1 0 0]\n",
      "m2 = [2 0 1 0]\n",
      "m3 = [0 1 1 1]\n",
      "m4 = [1 0 2 1]\n",
      "m5 = [0 3 0 1]\n",
      "m6 = [0 0 3 2]\n"
     ]
    }
   ],
   "source": [
    "print_basis(out_[1])"
   ]
  },
  {
   "attachments": {},
   "cell_type": "markdown",
   "id": "d80091ae-a145-4670-ac52-8eeb1c96f15e",
   "metadata": {},
   "source": [
    "**Handwritten version of the example:**\n",
    "\n",
    "![](https://i.imgur.com/DfOGQGb.png)"
   ]
  }
 ],
 "metadata": {
  "kernelspec": {
   "display_name": "Python 3 (ipykernel)",
   "language": "python",
   "name": "python3"
  },
  "language_info": {
   "codemirror_mode": {
    "name": "ipython",
    "version": 3
   },
   "file_extension": ".py",
   "mimetype": "text/x-python",
   "name": "python",
   "nbconvert_exporter": "python",
   "pygments_lexer": "ipython3",
   "version": "3.9.13"
  }
 },
 "nbformat": 4,
 "nbformat_minor": 5
}
